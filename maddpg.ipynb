{
 "cells": [
  {
   "cell_type": "code",
   "execution_count": 1,
   "metadata": {},
   "outputs": [],
   "source": [
    "import numpy as np\n",
    "import torch\n",
    "from torch import nn\n",
    "import torch.nn.functional as F\n",
    "from torch.optim import Adam\n",
    "from tqdm import tqdm\n",
    "import matplotlib.pyplot as plt"
   ]
  },
  {
   "cell_type": "markdown",
   "metadata": {},
   "source": [
    "## Notes"
   ]
  },
  {
   "cell_type": "markdown",
   "metadata": {},
   "source": [
    "MADDPG[https://papers.nips.cc/paper/2017/file/68a9750337a418a86fe06c1991a1d64c-Paper.pdf] a **centralized critic** and decentralized actors. Since the training of each agent is conditioned on the observation and action of all the other agents, each agent perceives the environment as stationary.\n",
    "\n",
    "Q-learning challenged by non-stationrity via NO replay memory.\n",
    "\n",
    "Policy gradient methods suffer from variance in estimates as the number of agents increases.\n",
    "\n",
    "Model free.\n",
    "\n",
    "Applicable to both cooperative and competitive.\n",
    "\n",
    "Learns a centralized critic for each agent, allowing for agents with differing reward functions.\n",
    "\n",
    "Considers envs with comm between agents (can work but not necessary).\n",
    "\n",
    "Requires explicitly modeling decision-making process of other agents. \n",
    "\n",
    "Show that probability of taking a correct-direction gradient-step decreases exp. with the number of agents. (Proof in appendix). \n",
    "\n",
    "Learned policies can only use local information at execution time. \n",
    "\n",
    "Given $N$ agents parameterized by $\\theta = \\{\\theta_i\\}_{i=1}^N$, let $\\pi = \\{\\pi_i\\}_{i=1}^N$ be a set of all agent policies. Then, the gradient of the expected return for agent $i$, $J(\\theta_i) = \\mathbb{E}[R_i]$ is :\n",
    "\n",
    "$$\n",
    "\\nabla_{\\theta_i}J(\\theta_i) = \\mathbb{E}_{s \\sim p^{\\mu},a_i \\sim \\pi_i}[\\nabla_{\\theta_i}log \\pi_i (a_i|o_i)Q^{\\pi}_i(x,a_1,...,a_N)]\n",
    "$$\n",
    "where $x$ is some state-based information such as $x=(o_1,...,o_N)$. \n",
    "\n",
    "If we know the actions of all other agents, the environment is stationary, even as policies change. To remove this assumption, each agent $i$ can additionally maintain an approximation of the policy $\\hat{\\mu}_i^j$ of other agents $j$. This approx policy is learned by maximizing the log prob of agent $j's$ actions, with an entropy regularizer:\n",
    "\n",
    "$$\n",
    "\\mathcal{L}(\\phi^j_i) = -\\mathbb{E}_{o_j,a_j}[log \\hat{\\mu}^j_i(a_j|o_j) + \\lambda H(\\hat{\\mu}_i^j)]\n",
    "$$\n",
    "which can trivially be extended to approximate Q-functions.\n",
    "\n",
    "Can also train $K$ sub-policies for each agent as a method to improve robustness vs. competitors."
   ]
  },
  {
   "cell_type": "markdown",
   "metadata": {},
   "source": [
    "ENVS:\n",
    "\n",
    "**Cooperative navigation**: agents must cooperate to reach $L$ landmarks. Observation are relative positions of other agents and landmarks and agents are collectively rewarded based on proximity of any agent to each landmark. Penalties for touching each other. No communication.\n",
    "\n",
    "- 3 agents"
   ]
  },
  {
   "cell_type": "markdown",
   "metadata": {},
   "source": [
    "### Env"
   ]
  },
  {
   "cell_type": "markdown",
   "metadata": {},
   "source": [
    "Envs return: [obs, reward, done, info IF BENCHMARK]"
   ]
  },
  {
   "cell_type": "code",
   "execution_count": 2,
   "metadata": {},
   "outputs": [],
   "source": [
    "from multiagent.environment import MultiAgentEnv\n",
    "import multiagent.scenarios as scenarios"
   ]
  },
  {
   "cell_type": "code",
   "execution_count": 3,
   "metadata": {},
   "outputs": [],
   "source": [
    "# \"simple_spread\" is cooperative navigation\n",
    "scenario = scenarios.load('simple_spread' + \".py\").Scenario()\n",
    "world = scenario.make_world()\n",
    "env = MultiAgentEnv(world, scenario.reset_world, scenario.reward, \n",
    "                    scenario.observation, scenario.benchmark_data)"
   ]
  },
  {
   "cell_type": "code",
   "execution_count": 4,
   "metadata": {},
   "outputs": [
    {
     "data": {
      "text/plain": [
       "[<multiagent.core.Agent at 0x7f3cc371a130>,\n",
       " <multiagent.core.Agent at 0x7f3cc371a460>,\n",
       " <multiagent.core.Agent at 0x7f3cc371ab20>]"
      ]
     },
     "execution_count": 4,
     "metadata": {},
     "output_type": "execute_result"
    }
   ],
   "source": [
    "env.agents"
   ]
  },
  {
   "cell_type": "code",
   "execution_count": 5,
   "metadata": {},
   "outputs": [
    {
     "data": {
      "text/plain": [
       "[Box(-inf, inf, (18,), float32),\n",
       " Box(-inf, inf, (18,), float32),\n",
       " Box(-inf, inf, (18,), float32)]"
      ]
     },
     "execution_count": 5,
     "metadata": {},
     "output_type": "execute_result"
    }
   ],
   "source": [
    "env.observation_space"
   ]
  },
  {
   "cell_type": "code",
   "execution_count": 6,
   "metadata": {},
   "outputs": [
    {
     "data": {
      "text/plain": [
       "[Discrete(5), Discrete(5), Discrete(5)]"
      ]
     },
     "execution_count": 6,
     "metadata": {},
     "output_type": "execute_result"
    }
   ],
   "source": [
    "env.action_space"
   ]
  },
  {
   "cell_type": "code",
   "execution_count": 7,
   "metadata": {},
   "outputs": [
    {
     "data": {
      "text/plain": [
       "[array([ 0.        ,  0.        ,  0.94135368, -0.32472144, -0.20875832,\n",
       "         1.08482044, -0.56750365, -0.64662086, -0.18602154, -0.33859685,\n",
       "        -1.5183492 , -0.35639664,  0.00743289,  0.30012282,  0.        ,\n",
       "         0.        ,  0.        ,  0.        ]),\n",
       " array([ 0.        ,  0.        , -0.57699552, -0.68111807,  1.30959087,\n",
       "         1.44121708,  0.95084554, -0.29022422,  1.33232765,  0.01779978,\n",
       "         1.5183492 ,  0.35639664,  1.52578209,  0.65651946,  0.        ,\n",
       "         0.        ,  0.        ,  0.        ]),\n",
       " array([ 0.        ,  0.        ,  0.94878657, -0.02459861, -0.21619121,\n",
       "         0.78469762, -0.57493654, -0.94674368, -0.19345443, -0.63871968,\n",
       "        -0.00743289, -0.30012282, -1.52578209, -0.65651946,  0.        ,\n",
       "         0.        ,  0.        ,  0.        ])]"
      ]
     },
     "execution_count": 7,
     "metadata": {},
     "output_type": "execute_result"
    }
   ],
   "source": [
    "env.reset()"
   ]
  },
  {
   "cell_type": "markdown",
   "metadata": {},
   "source": [
    "get action\n",
    "\n",
    "action_n = [agent.action(obs) for agent, obs in zip(trainers,obs_n)]\n",
    "\n",
    "environment step\n",
    "\n",
    "new_obs_n, rew_n, done_n, info_n = env.step(action_n)"
   ]
  },
  {
   "cell_type": "markdown",
   "metadata": {},
   "source": [
    "### Components"
   ]
  },
  {
   "cell_type": "code",
   "execution_count": 8,
   "metadata": {},
   "outputs": [],
   "source": [
    "def onehot_from_logits(logits, eps=0.0):\n",
    "    \"\"\"\n",
    "    Given batch of logits, return one-hot sample using epsilon greedy strategy\n",
    "    (based on given epsilon)\n",
    "    \"\"\"\n",
    "    # get best (according to current policy) actions in one-hot form\n",
    "    argmax_acs = (logits == logits.max(-1, keepdim=True)[0]).float()\n",
    "    return argmax_acs\n"
   ]
  },
  {
   "cell_type": "code",
   "execution_count": 9,
   "metadata": {},
   "outputs": [],
   "source": [
    "class ReplayMemory:\n",
    "    def __init__(self, capacity, obs_shape, action_shape, device):\n",
    "        self.capacity = capacity\n",
    "        self.obs = np.empty((capacity, *obs_shape), dtype=np.float32)\n",
    "        self.obs_next = np.empty((capacity, *obs_shape), dtype=np.float32)\n",
    "        self.actions = np.empty((capacity, *action_shape), dtype=np.float32)\n",
    "        self.rewards = np.empty((capacity, 1), dtype=np.float32)\n",
    "        self.not_dones = np.empty((capacity, 1), dtype=np.float32)\n",
    "        \n",
    "        self.device = device\n",
    "        \n",
    "        self.idx = 0\n",
    "        self.full = False\n",
    "    \n",
    "    def __len__(self):\n",
    "        return self.idx if not self.full else self.capacity\n",
    "    \n",
    "    def add(self, obs, actions, rewards, obs_next, not_done):\n",
    "        np.copyto(self.obs[self.idx], obs)\n",
    "        np.copyto(self.actions[self.idx], actions)\n",
    "        np.copyto(self.rewards[self.idx], rewards)\n",
    "        np.copyto(self.obs_next[self.idx], obs_next)\n",
    "        np.copyto(self.not_dones[self.idx], not_done)\n",
    "        \n",
    "        self.idx = (self.idx + 1) % self.capacity\n",
    "        self.full = self.full or self.idx == 0\n",
    "        \n",
    "    def sample(self, batch_size):\n",
    "        idxs = np.random.randint(0,\n",
    "                                 self.capacity if self.full else self.idx,\n",
    "                                 size=batch_size)\n",
    "\n",
    "        obs = self.obs[idxs]\n",
    "        obs_next = self.obs_next[idxs]\n",
    "        \n",
    "        obs = torch.as_tensor(obs, device=self.device).float()\n",
    "        obs_next = torch.as_tensor(obs_next, device=self.device).float()\n",
    "        \n",
    "        actions = torch.as_tensor(self.actions[idxs], device=self.device)\n",
    "        rewards = torch.as_tensor(self.rewards[idxs], device=self.device)\n",
    "        \n",
    "        not_dones = torch.as_tensor(self.not_dones[idxs], device=self.device)\n",
    "        \n",
    "        return obs, actions, rewards, obs_next, not_dones"
   ]
  },
  {
   "cell_type": "code",
   "execution_count": 10,
   "metadata": {},
   "outputs": [],
   "source": [
    "class Critic(nn.Module):\n",
    "    \"\"\"MADDPG critic takes a concatenation of all agent's local obs\n",
    "        Action-value function\n",
    "    \"\"\"\n",
    "    def __init__(self, obs_shape, action_shape, hidden_dim, n_layers):\n",
    "        super().__init__()\n",
    "        \n",
    "        inp_shape = obs_shape + action_shape[0] * action_shape[1]\n",
    "        \n",
    "        self.net = nn.ModuleList([nn.Linear(inp_shape, hidden_dim), \n",
    "                                  nn.ReLU()])\n",
    "        \n",
    "        for _ in range(n_layers - 2):\n",
    "            self.net.append(nn.Linear(hidden_dim, hidden_dim))\n",
    "            self.net.append(nn.ReLU())\n",
    "            \n",
    "        self.net.append(nn.Linear(hidden_dim, 1))\n",
    "        \n",
    "    def forward(self, o, a):\n",
    "        x = torch.cat([o, a], dim=-1)\n",
    "        for layer in self.net:\n",
    "            x = layer(x)\n",
    "        return x"
   ]
  },
  {
   "cell_type": "code",
   "execution_count": 11,
   "metadata": {},
   "outputs": [],
   "source": [
    "class Actor(nn.Module):\n",
    "    def __init__(self, obs_shape, action_shape, hidden_dim, n_layers):\n",
    "        super().__init__()\n",
    "        \n",
    "        \n",
    "        self.net = nn.ModuleList([nn.Linear(obs_shape, hidden_dim), nn.ReLU()])\n",
    "        \n",
    "        for _ in range(n_layers - 2):\n",
    "            self.net.append(nn.Linear(hidden_dim, hidden_dim))\n",
    "            self.net.append(nn.ReLU())\n",
    "        \n",
    "        self.net.append(nn.Linear(hidden_dim, action_shape[1]))\n",
    "        \n",
    "    def forward(self, o):\n",
    "        for layer in self.net:\n",
    "            o = layer(o)\n",
    "        return o"
   ]
  },
  {
   "cell_type": "code",
   "execution_count": 12,
   "metadata": {},
   "outputs": [],
   "source": [
    "class MADDPG:\n",
    "    \"\"\"lr=1e-2, tau=1e-2, gamma=0.95, mem_size=1e6\"\"\"\n",
    "    def __init__(self, obs_shape, action_shape, n_agents, batch_size,\n",
    "                 hidden_dim, n_layers, lr, tau, gamma, mem_capacity, device):\n",
    "        \n",
    "        self.actors = []\n",
    "        for _ in range(n_agents):\n",
    "            self.actors.append(Actor(\n",
    "                obs_shape[1], action_shape, hidden_dim, n_layers\n",
    "            ).to(device))\n",
    "            \n",
    "        self.actor_targets = []\n",
    "        for _ in range(n_agents):\n",
    "            self.actor_targets.append(Actor(\n",
    "                obs_shape[1], action_shape, hidden_dim, n_layers\n",
    "            ).to(device))\n",
    "        \n",
    "        self.critic = Critic(\n",
    "            obs_shape[0] * obs_shape[1], action_shape * n_agents, hidden_dim, n_layers\n",
    "        ).to(device)\n",
    "        \n",
    "        self.critic_target = Critic(\n",
    "            obs_shape[0] * obs_shape[1], action_shape * n_agents, hidden_dim, n_layers\n",
    "        ).to(device)\n",
    "        \n",
    "        self.critic_target.load_state_dict(self.critic.state_dict())\n",
    "        \n",
    "        for i in range(n_agents):\n",
    "            self.actor_targets[i].load_state_dict(self.actors[i].state_dict())\n",
    "        \n",
    "        self.actor_optims = []\n",
    "        for i in range(n_agents):\n",
    "            self.actor_optims.append(Adam(self.actors[i].parameters(), lr=lr))\n",
    "            \n",
    "        self.critic_optim = Adam(self.critic.parameters(), lr=lr)\n",
    "        \n",
    "        self.memory = ReplayMemory(mem_capacity, obs_shape, action_shape, device)\n",
    "        \n",
    "        self.gamma = gamma\n",
    "        self.obs_shape = obs_shape\n",
    "        self.obs_shape_flat = obs_shape[0] * obs_shape[1]\n",
    "        self.action_shape_flat = action_shape[0] * action_shape[1]\n",
    "        self.batch_size = batch_size\n",
    "        self.n_agents = n_agents\n",
    "        self.tau = tau\n",
    "        \n",
    "    def act(self, obs, sample=True):\n",
    "        actions = []\n",
    "        for i, actor in enumerate(self.actors):\n",
    "            with torch.no_grad():\n",
    "                logits = actor(obs[i])\n",
    "            \n",
    "            if sample:\n",
    "                actions.append(F.gumbel_softmax(logits).cpu().numpy())\n",
    "            else:\n",
    "                # this currently returns [0, 1, 0]...\n",
    "                actions.append(onehot_from_logits(logits))\n",
    "        return actions\n",
    "                \n",
    "    def update(self):\n",
    "        if len(self.memory) < self.batch_size:\n",
    "            return\n",
    "        \n",
    "        for j in range(self.n_agents):\n",
    "            obs, actions, rewards, obs_next, not_dones = self.memory.sample(self.batch_size)\n",
    "            self.update_critic(obs, actions, rewards, obs_next, not_dones)\n",
    "            self.update_actor(obs, j)\n",
    "            \n",
    "        self.soft_update()\n",
    "    \n",
    "    def update_critic(self, obs, actions, rewards, obs_next , not_dones):\n",
    "        \"\"\"\n",
    "            obs = obs.view(self.batch_size, self.obs_shape * self.n_agents)\n",
    "            obs_next = obs_next.view(self.batch_size, self.obs_shape * self.n_agents)\n",
    "        \"\"\"\n",
    "        with torch.no_grad():\n",
    "            next_actions = []\n",
    "            for i, actor in enumerate(self.actor_targets):\n",
    "                # [whole batch, agent i, whole obs]\n",
    "                logits = actor(obs_next[:, i, :])\n",
    "                next_actions.append(onehot_from_logits(logits))\n",
    "                \n",
    "            # Stacking the list together...\n",
    "            # [[0,1,0, ..., 1,0,0], ..., [0,1,0, ..., 1,0,0]]\n",
    "            next_actions = torch.stack(next_actions, dim=1).view(self.batch_size,\n",
    "                                                                 self.action_shape_flat)\n",
    "            \n",
    "            obs_next_reshape = obs_next.view(self.batch_size, self.obs_shape_flat)\n",
    "            \n",
    "            q_target = rewards + not_dones * self.gamma * self.critic_target(obs_next_reshape,\n",
    "                                                                             next_actions)\n",
    "            \n",
    "        obs_reshape = obs.view(self.batch_size, self.obs_shape_flat)\n",
    "        q_value = self.critic(obs_reshape, actions.view(self.batch_size, self.action_shape_flat))\n",
    "        \n",
    "        self.critic_optim.zero_grad()\n",
    "        critic_loss = F.mse_loss(q_value, q_target)\n",
    "        critic_loss.backward()\n",
    "        self.critic_optim.step()\n",
    "        \n",
    "    \n",
    "    def update_actor(self, obs, j):\n",
    "        \"\"\"\n",
    "        dist = self.actor(obs, detach_encoder=True)\n",
    "        action = dist.rsample()\n",
    "        log_prob = dist.log_prob(action).sum(-1, keepdim=True)\n",
    "        # detach conv filters, so we don't update them with the actor loss\n",
    "        actor_Q1, actor_Q2 = self.critic(obs, action, detach_encoder=True)\n",
    "\n",
    "        actor_Q = torch.min(actor_Q1, actor_Q2)\n",
    "\n",
    "        actor_loss = (self.alpha.detach() * log_prob - actor_Q).mean()\n",
    "        \"\"\"\n",
    "        actions = []\n",
    "        pis = []\n",
    "        \n",
    "        # Shape of actions = [batch, n_agents, n_actions]\n",
    "        # [:, i, :] for actions from ith agent\n",
    "        for i, actor in enumerate(self.actors):\n",
    "            logits = actor(obs[:, i, :])\n",
    "            pis.append(logits)\n",
    "            actions.append(F.gumbel_softmax(logits, hard=True))\n",
    "        \n",
    "        # This process may not be necessary...\n",
    "        for i in range(len(actions)):\n",
    "            if i == j:\n",
    "                continue\n",
    "            else:\n",
    "                actions[i].detach()\n",
    "                pis[i].detach()\n",
    "\n",
    "        actions = torch.stack(actions, dim=1).view(self.batch_size,\n",
    "                                                   self.action_shape_flat)\n",
    "        reshaped_obs = obs.view(self.batch_size, self.obs_shape_flat)\n",
    "        pi_loss = -self.critic(reshaped_obs, actions).mean()\n",
    "\n",
    "        self.actor_optims[j].zero_grad()\n",
    "        pi_loss.backward()\n",
    "        self.actor_optims[j].step()  \n",
    "    \n",
    "    def soft_update(self):\n",
    "        for target_param, param in zip(self.critic_target.parameters(), self.critic.parameters()):\n",
    "            target_param.data.copy_(target_param.data * (1. - self.tau) + param.data * self.tau)\n",
    "            \n",
    "        for i in range(self.n_agents):\n",
    "            for target_param, param, in zip(self.actor_targets[i].parameters(), self.actors[i].parameters()):\n",
    "                target_param.data.copy_(target_param.data * (1. - self.tau) + param.data * self.tau)"
   ]
  },
  {
   "cell_type": "code",
   "execution_count": 535,
   "metadata": {},
   "outputs": [],
   "source": [
    "learner = MADDPG(\n",
    "    obs_shape=np.array(env.reset()).shape, action_shape=[3, 5], n_agents=3, \n",
    "    batch_size=1024, hidden_dim=64, n_layers=2, lr=0.01, tau=0.01, \n",
    "    gamma=0.95, mem_capacity=int(1e6), device='cpu'\n",
    ")"
   ]
  },
  {
   "cell_type": "code",
   "execution_count": 19,
   "metadata": {},
   "outputs": [
    {
     "name": "stderr",
     "output_type": "stream",
     "text": [
      "100%|██████████| 10000/10000 [1:56:20<00:00,  1.43it/s] \n",
      "100%|██████████| 10000/10000 [1:56:04<00:00,  1.44it/s] \n",
      "100%|██████████| 10000/10000 [1:55:23<00:00,  1.44it/s] \n",
      "100%|██████████| 10000/10000 [1:56:34<00:00,  1.43it/s] \n",
      "100%|██████████| 10000/10000 [1:54:11<00:00,  1.46it/s]\n"
     ]
    }
   ],
   "source": [
    "RUNS = 5\n",
    "EPISODE_LENGTH = 25\n",
    "device = 'cpu'\n",
    "\n",
    "outer_rewards = []\n",
    "\n",
    "for _ in range(RUNS):\n",
    "    learner = MADDPG(\n",
    "        obs_shape=np.array(env.reset()).shape, action_shape=[3, 5], n_agents=3, \n",
    "        batch_size=1024, hidden_dim=128, n_layers=2, lr=0.01, tau=0.01, \n",
    "        gamma=0.95, mem_capacity=int(1e6), device=device\n",
    "    )\n",
    "    \n",
    "    EPISODES = 10000\n",
    "\n",
    "    reward_hist = []\n",
    "\n",
    "    for e in tqdm(range(EPISODES)):\n",
    "        obs = env.reset()\n",
    "        done = False\n",
    "        not_done = 1\n",
    "        steps = 0\n",
    "        episode_rewards = 0\n",
    "\n",
    "        while not done:\n",
    "            actions = learner.act(torch.tensor(obs).float().to(device))\n",
    "            actions = np.array(actions)\n",
    "            obs_next, rewards, dones, info = env.step(actions)\n",
    "            episode_rewards += rewards[0]\n",
    "            steps += 1\n",
    "\n",
    "            if steps == EPISODE_LENGTH:\n",
    "                not_done = 0\n",
    "                done = True\n",
    "\n",
    "            learner.memory.add(obs, actions, rewards[0], obs_next, not_done)\n",
    "\n",
    "            learner.update()\n",
    "\n",
    "            obs = obs_next\n",
    "\n",
    "        reward_hist.append(episode_rewards)\n",
    "        \n",
    "    outer_rewards.append(reward_hist)"
   ]
  },
  {
   "cell_type": "code",
   "execution_count": 23,
   "metadata": {},
   "outputs": [],
   "source": [
    "smoothed = []\n",
    "\n",
    "for run in outer_rewards:\n",
    "    inner = []\n",
    "    b_idx = 0\n",
    "    e_idx = 100\n",
    "    while e_idx < len(run):\n",
    "        inner.append(np.mean(run[b_idx: e_idx]))\n",
    "        b_idx += 1\n",
    "        e_idx += 1\n",
    "        \n",
    "    smoothed.append(inner)"
   ]
  },
  {
   "cell_type": "code",
   "execution_count": 24,
   "metadata": {},
   "outputs": [
    {
     "data": {
      "text/plain": [
       "<matplotlib.collections.PolyCollection at 0x7f3cb02349d0>"
      ]
     },
     "execution_count": 24,
     "metadata": {},
     "output_type": "execute_result"
    },
    {
     "data": {
      "image/png": "[encoded data removed]",
      "text/plain": [
       "<Figure size 432x288 with 1 Axes>"
      ]
     },
     "metadata": {
      "needs_background": "light"
     },
     "output_type": "display_data"
    }
   ],
   "source": [
    "plt.plot(np.mean(np.array(smoothed), axis=0))\n",
    "\n",
    "plt.fill_between(\n",
    "    range(len(smoothed[0])),\n",
    "    np.mean(np.array(smoothed), axis=0) + np.std(np.array(smoothed), axis=0),\n",
    "    np.mean(np.array(smoothed), axis=0) - np.std(np.array(smoothed), axis=0),\n",
    "    alpha=0.25\n",
    ")"
   ]
  }
 ],
 "metadata": {
  "kernelspec": {
   "display_name": "Python 3",
   "language": "python",
   "name": "python3"
  },
  "language_info": {
   "codemirror_mode": {
    "name": "ipython",
    "version": 3
   },
   "file_extension": ".py",
   "mimetype": "text/x-python",
   "name": "python",
   "nbconvert_exporter": "python",
   "pygments_lexer": "ipython3",
   "version": "3.8.5"
  }
 },
 "nbformat": 4,
 "nbformat_minor": 4
}
